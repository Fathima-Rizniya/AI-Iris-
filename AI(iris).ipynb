{
  "nbformat": 4,
  "nbformat_minor": 0,
  "metadata": {
    "colab": {
      "name": "AI(iris).ipynb",
      "provenance": []
    },
    "kernelspec": {
      "name": "python3",
      "display_name": "Python 3"
    },
    "language_info": {
      "name": "python"
    }
  },
  "cells": [
    {
      "cell_type": "code",
      "execution_count": null,
      "metadata": {
        "id": "56ZuwH19xUQF"
      },
      "outputs": [],
      "source": [
        "import pandas as pd\n",
        "iris=pd.read_csv(\"/content/Iris.csv\")\n",
        "iris.head()\n",
        "iris.drop(\"Id\",axis=1, inplace = True)"
      ]
    },
    {
      "cell_type": "code",
      "source": [
        "y_=iris.Species\n",
        "x=iris.drop(\"Species\",axis=1)"
      ],
      "metadata": {
        "id": "tWLx95Aj16-C"
      },
      "execution_count": null,
      "outputs": []
    },
    {
      "cell_type": "code",
      "source": [
        "x.shape"
      ],
      "metadata": {
        "colab": {
          "base_uri": "https://localhost:8080/"
        },
        "id": "nb5QgyVUdjit",
        "outputId": "255b7035-43c4-40cc-b600-3fce22f9e69c"
      },
      "execution_count": null,
      "outputs": [
        {
          "output_type": "execute_result",
          "data": {
            "text/plain": [
              "(150, 4)"
            ]
          },
          "metadata": {},
          "execution_count": 81
        }
      ]
    },
    {
      "cell_type": "code",
      "source": [
        "from sklearn.preprocessing import LabelEncoder\n",
        "le = LabelEncoder()\n",
        "y = le.fit_transform(y_)"
      ],
      "metadata": {
        "id": "5JU3hi5UX1tR"
      },
      "execution_count": null,
      "outputs": []
    },
    {
      "cell_type": "code",
      "source": [
        "from keras.models import Sequential"
      ],
      "metadata": {
        "id": "MF1VSftXyqXh"
      },
      "execution_count": null,
      "outputs": []
    },
    {
      "cell_type": "code",
      "source": [
        "model=Sequential()\n",
        "model.add(Dense(8,input_dim=4,activation='relu'))\n",
        "model.add(Dense(32,activation='relu'))\n",
        "model.add(Dense(3,activation='relu'))"
      ],
      "metadata": {
        "id": "-sf7bAx1HHbq"
      },
      "execution_count": null,
      "outputs": []
    },
    {
      "cell_type": "code",
      "source": [
        "model.compile(loss='binary_crossentropy', optimizer='adam', metrics=['accuracy'])"
      ],
      "metadata": {
        "id": "3C8Kq22YJH5E"
      },
      "execution_count": null,
      "outputs": []
    },
    {
      "cell_type": "code",
      "source": [
        "model.fit(x,y,epochs=50)"
      ],
      "metadata": {
        "colab": {
          "base_uri": "https://localhost:8080/"
        },
        "id": "CoHsGjnTHHgr",
        "outputId": "56dd891f-2041-4c21-d63d-f6be648af9d2"
      },
      "execution_count": null,
      "outputs": [
        {
          "output_type": "stream",
          "name": "stdout",
          "text": [
            "Epoch 1/50\n",
            "5/5 [==============================] - 1s 3ms/step - loss: 11.0464 - accuracy: 0.3333\n",
            "Epoch 2/50\n",
            "5/5 [==============================] - 0s 3ms/step - loss: 10.7203 - accuracy: 0.3333\n",
            "Epoch 3/50\n",
            "5/5 [==============================] - 0s 2ms/step - loss: 10.5097 - accuracy: 0.3333\n",
            "Epoch 4/50\n",
            "5/5 [==============================] - 0s 3ms/step - loss: 10.3565 - accuracy: 0.3333\n",
            "Epoch 5/50\n",
            "5/5 [==============================] - 0s 4ms/step - loss: 9.9877 - accuracy: 0.3333\n",
            "Epoch 6/50\n",
            "5/5 [==============================] - 0s 4ms/step - loss: 9.2123 - accuracy: 0.3333\n",
            "Epoch 7/50\n",
            "5/5 [==============================] - 0s 2ms/step - loss: 8.8718 - accuracy: 0.3333\n",
            "Epoch 8/50\n",
            "5/5 [==============================] - 0s 3ms/step - loss: 8.7778 - accuracy: 0.3333\n",
            "Epoch 9/50\n",
            "5/5 [==============================] - 0s 3ms/step - loss: 8.7540 - accuracy: 0.3333\n",
            "Epoch 10/50\n",
            "5/5 [==============================] - 0s 3ms/step - loss: 8.7332 - accuracy: 0.3333\n",
            "Epoch 11/50\n",
            "5/5 [==============================] - 0s 3ms/step - loss: 8.7169 - accuracy: 0.3333\n",
            "Epoch 12/50\n",
            "5/5 [==============================] - 0s 3ms/step - loss: 8.7053 - accuracy: 0.3333\n",
            "Epoch 13/50\n",
            "5/5 [==============================] - 0s 3ms/step - loss: 8.6963 - accuracy: 0.3333\n",
            "Epoch 14/50\n",
            "5/5 [==============================] - 0s 3ms/step - loss: 8.6882 - accuracy: 0.3333\n",
            "Epoch 15/50\n",
            "5/5 [==============================] - 0s 3ms/step - loss: 8.6822 - accuracy: 0.3333\n",
            "Epoch 16/50\n",
            "5/5 [==============================] - 0s 3ms/step - loss: 8.6766 - accuracy: 0.3333\n",
            "Epoch 17/50\n",
            "5/5 [==============================] - 0s 3ms/step - loss: 8.6717 - accuracy: 0.3333\n",
            "Epoch 18/50\n",
            "5/5 [==============================] - 0s 3ms/step - loss: 8.6671 - accuracy: 0.3333\n",
            "Epoch 19/50\n",
            "5/5 [==============================] - 0s 3ms/step - loss: 8.6623 - accuracy: 0.3333\n",
            "Epoch 20/50\n",
            "5/5 [==============================] - 0s 4ms/step - loss: 8.6578 - accuracy: 0.3333\n",
            "Epoch 21/50\n",
            "5/5 [==============================] - 0s 4ms/step - loss: 8.6535 - accuracy: 0.3333\n",
            "Epoch 22/50\n",
            "5/5 [==============================] - 0s 3ms/step - loss: 8.6493 - accuracy: 0.3333\n",
            "Epoch 23/50\n",
            "5/5 [==============================] - 0s 3ms/step - loss: 8.6448 - accuracy: 0.3333\n",
            "Epoch 24/50\n",
            "5/5 [==============================] - 0s 3ms/step - loss: 8.6407 - accuracy: 0.3333\n",
            "Epoch 25/50\n",
            "5/5 [==============================] - 0s 2ms/step - loss: 8.6366 - accuracy: 0.3333\n",
            "Epoch 26/50\n",
            "5/5 [==============================] - 0s 4ms/step - loss: 8.6326 - accuracy: 0.3333\n",
            "Epoch 27/50\n",
            "5/5 [==============================] - 0s 3ms/step - loss: 8.6289 - accuracy: 0.3333\n",
            "Epoch 28/50\n",
            "5/5 [==============================] - 0s 3ms/step - loss: 8.6252 - accuracy: 0.3333\n",
            "Epoch 29/50\n",
            "5/5 [==============================] - 0s 3ms/step - loss: 8.6217 - accuracy: 0.3333\n",
            "Epoch 30/50\n",
            "5/5 [==============================] - 0s 3ms/step - loss: 8.6182 - accuracy: 0.3333\n",
            "Epoch 31/50\n",
            "5/5 [==============================] - 0s 3ms/step - loss: 8.6150 - accuracy: 0.3333\n",
            "Epoch 32/50\n",
            "5/5 [==============================] - 0s 3ms/step - loss: 8.6118 - accuracy: 0.3333\n",
            "Epoch 33/50\n",
            "5/5 [==============================] - 0s 4ms/step - loss: 8.6086 - accuracy: 0.3333\n",
            "Epoch 34/50\n",
            "5/5 [==============================] - 0s 3ms/step - loss: 8.6057 - accuracy: 0.3333\n",
            "Epoch 35/50\n",
            "5/5 [==============================] - 0s 3ms/step - loss: 8.6025 - accuracy: 0.3333\n",
            "Epoch 36/50\n",
            "5/5 [==============================] - 0s 3ms/step - loss: 8.5997 - accuracy: 0.3333\n",
            "Epoch 37/50\n",
            "5/5 [==============================] - 0s 3ms/step - loss: 8.5972 - accuracy: 0.3333\n",
            "Epoch 38/50\n",
            "5/5 [==============================] - 0s 3ms/step - loss: 8.5959 - accuracy: 0.3333\n",
            "Epoch 39/50\n",
            "5/5 [==============================] - 0s 3ms/step - loss: 8.5949 - accuracy: 0.3333\n",
            "Epoch 40/50\n",
            "5/5 [==============================] - 0s 2ms/step - loss: 8.5938 - accuracy: 0.3333\n",
            "Epoch 41/50\n",
            "5/5 [==============================] - 0s 3ms/step - loss: 8.5931 - accuracy: 0.3333\n",
            "Epoch 42/50\n",
            "5/5 [==============================] - 0s 2ms/step - loss: 8.5925 - accuracy: 0.3333\n",
            "Epoch 43/50\n",
            "5/5 [==============================] - 0s 3ms/step - loss: 8.5922 - accuracy: 0.3333\n",
            "Epoch 44/50\n",
            "5/5 [==============================] - 0s 3ms/step - loss: 8.5918 - accuracy: 0.3333\n",
            "Epoch 45/50\n",
            "5/5 [==============================] - 0s 3ms/step - loss: 8.5916 - accuracy: 0.3333\n",
            "Epoch 46/50\n",
            "5/5 [==============================] - 0s 3ms/step - loss: 8.5914 - accuracy: 0.3333\n",
            "Epoch 47/50\n",
            "5/5 [==============================] - 0s 4ms/step - loss: 8.5912 - accuracy: 0.3333\n",
            "Epoch 48/50\n",
            "5/5 [==============================] - 0s 3ms/step - loss: 8.5911 - accuracy: 0.3333\n",
            "Epoch 49/50\n",
            "5/5 [==============================] - 0s 4ms/step - loss: 8.5910 - accuracy: 0.3333\n",
            "Epoch 50/50\n",
            "5/5 [==============================] - 0s 3ms/step - loss: 8.5909 - accuracy: 0.3333\n"
          ]
        },
        {
          "output_type": "execute_result",
          "data": {
            "text/plain": [
              "<keras.callbacks.History at 0x7f6e9ad8a810>"
            ]
          },
          "metadata": {},
          "execution_count": 87
        }
      ]
    }
  ]
}